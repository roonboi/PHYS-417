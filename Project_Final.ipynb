{
  "cells": [
    {
      "cell_type": "markdown",
      "metadata": {
        "id": "view-in-github",
        "colab_type": "text"
      },
      "source": [
        "<a href=\"https://colab.research.google.com/github/roonboi/PHYS-417/blob/main/Project_Final.ipynb\" target=\"_parent\"><img src=\"https://colab.research.google.com/assets/colab-badge.svg\" alt=\"Open In Colab\"/></a>"
      ]
    },
    {
      "cell_type": "markdown",
      "id": "2c542647",
      "metadata": {
        "id": "2c542647"
      },
      "source": [
        "# Lab 8/9 Report:\n",
        "## Classify Gravitational Waves"
      ]
    },
    {
      "cell_type": "markdown",
      "id": "87f0bdb8",
      "metadata": {
        "id": "87f0bdb8"
      },
      "source": [
        "### Name: Travis Hand, Arun Iyer"
      ]
    },
    {
      "cell_type": "code",
      "execution_count": null,
      "id": "d050509d",
      "metadata": {
        "id": "d050509d"
      },
      "outputs": [],
      "source": [
        "%matplotlib inline\n",
        "\n",
        "import numpy as np\n",
        "import matplotlib.pyplot as plt\n",
        "import torch\n",
        "import torch.nn as nn\n",
        "from torch.distributions import Categorical\n",
        "import h5py\n",
        "import tqdm\n",
        "import scipy\n",
        "import torch.optim as optim\n",
        "import torch.nn.functional as F\n",
        "from torch.utils.data import Dataset\n",
        "from torch.utils.data import DataLoader, random_split\n",
        "from scipy.signal import butter, sosfiltfilt, welch\n",
        "from torch.cuda.amp import autocast, GradScaler\n",
        "from torch.optim.swa_utils import AveragedModel, SWALR, update_bn\n",
        "from torch.utils.data import WeightedRandomSampler"
      ]
    },
    {
      "cell_type": "code",
      "execution_count": null,
      "id": "XzNQ9BCtOp2v",
      "metadata": {
        "colab": {
          "base_uri": "https://localhost:8080/"
        },
        "id": "XzNQ9BCtOp2v",
        "outputId": "348fd31a-be03-4b4d-d3da-77c0f6ac49a5"
      },
      "outputs": [
        {
          "output_type": "stream",
          "name": "stdout",
          "text": [
            "Mounted at /content/drive\n"
          ]
        }
      ],
      "source": [
        "from google.colab import drive\n",
        "drive.mount('/content/drive')"
      ]
    },
    {
      "cell_type": "code",
      "execution_count": null,
      "id": "j85Ee-63hnqs",
      "metadata": {
        "colab": {
          "base_uri": "https://localhost:8080/",
          "height": 35
        },
        "id": "j85Ee-63hnqs",
        "outputId": "50e1eb4e-f0e4-426f-857c-b568b3bcbb9c"
      },
      "outputs": [
        {
          "output_type": "execute_result",
          "data": {
            "text/plain": [
              "'/content/drive/MyDrive'"
            ],
            "application/vnd.google.colaboratory.intrinsic+json": {
              "type": "string"
            }
          },
          "metadata": {},
          "execution_count": 3
        }
      ],
      "source": [
        "import os  # Standard Python library import\n",
        "os.chdir('/content/drive/MyDrive/')  # Change current working directory to Google Drive path\n",
        "os.getcwd()  # Confirm the current working directory"
      ]
    },
    {
      "cell_type": "code",
      "execution_count": null,
      "id": "1e903c12",
      "metadata": {
        "id": "1e903c12"
      },
      "outputs": [],
      "source": [
        "# PyTorch Dataset base class\n",
        "class GravitationalWaveDataset(Dataset):\n",
        "    def __init__(self, file_path, label_map, train=True, transform=None, band=(20, 500), fs=4096):\n",
        "        \"\"\"\n",
        "        Initializes the dataset by reading the HDF5 file and preparing data and labels.\n",
        "\n",
        "        Args:\n",
        "            file_path (str): Path to the HDF5 file.\n",
        "            label_map (dict): Maps string labels to integer indices.\n",
        "            train (bool): Whether the dataset is used for training (enables augmentation).\n",
        "            transform (callable): Optional transform to apply to each sample.\n",
        "            band (tuple): Bandpass filter range (in Hz).\n",
        "            fs (int): Sampling frequency of the signal.\n",
        "        \"\"\"\n",
        "        self.data = []\n",
        "        self.labels = []\n",
        "        self.train = train\n",
        "        self.transform = transform\n",
        "        self.label_map = label_map\n",
        "        self.band = band\n",
        "        self.fs = fs\n",
        "\n",
        "        # Load data from HDF5 file\n",
        "        with h5py.File(file_path, 'r') as f:\n",
        "            for label, idx in label_map.items():\n",
        "                dataset = f[label][:]  # e.g., shape (2048, 2, 4096)\n",
        "                self.data.append(dataset)\n",
        "                self.labels += [idx] * len(dataset)\n",
        "\n",
        "        # Concatenate data arrays along the sample axis: final shape (N, 2, 4096)\n",
        "        self.data = np.concatenate(self.data)\n",
        "        self.labels = np.array(self.labels)\n",
        "\n",
        "    def __len__(self):\n",
        "        \"\"\"\n",
        "        Returns total number of samples in the dataset.\n",
        "        \"\"\"\n",
        "        return len(self.data)\n",
        "\n",
        "    def bandpass_filter(self, signal):\n",
        "        \"\"\"\n",
        "        Applies a 4th-order bandpass Butterworth filter to the input signal.\n",
        "\n",
        "        Args:\n",
        "            signal (np.array): 1D time-series signal.\n",
        "\n",
        "        Returns:\n",
        "            Filtered signal.\n",
        "        \"\"\"\n",
        "        sos = butter(N=4, Wn=[self.band[0], self.band[1]], btype='band', fs=self.fs, output='sos')\n",
        "        return sosfiltfilt(sos, signal)\n",
        "\n",
        "    def __getitem__(self, idx):\n",
        "        \"\"\"\n",
        "        Retrieves and processes a single sample from the dataset.\n",
        "\n",
        "        Args:\n",
        "            idx (int): Index of the sample to retrieve.\n",
        "\n",
        "        Returns:\n",
        "            x (torch.Tensor): Preprocessed signal tensor (2, 4096).\n",
        "            y (torch.Tensor): Corresponding label tensor.\n",
        "        \"\"\"\n",
        "        x = self.data[idx]\n",
        "        y = self.labels[idx]\n",
        "\n",
        "        # Normalize and filter each channel independently (L1, H1)\n",
        "        for i in range(x.shape[0]):\n",
        "            x[i] = (x[i] - x[i].mean()) / (x[i].std() + 1e-8)  # Normalize to zero mean, unit variance\n",
        "            x[i] = self.bandpass_filter(x[i])  # Apply bandpass filter\n",
        "\n",
        "        # Randomly shift the signal in time by up to ±128 samples (data augmentation)\n",
        "        shift = np.random.randint(-128, 128)\n",
        "        x = np.roll(x, shift, axis=-1)\n",
        "\n",
        "        # If in training mode, apply additional augmentation\n",
        "        if self.train:\n",
        "            L = x.shape[-1]\n",
        "            w = int(0.10 * L)  # 10% of the signal length as mask width\n",
        "            s = torch.randint(0, L - w, (1,)).item()  # Random start index\n",
        "            x[:, s : s + w] = 0  # Zero out both channels in the mask region\n",
        "            x = x + 0.001 * torch.randn_like(x)  # Add slight Gaussian noise\n",
        "\n",
        "        # Apply optional transform (if provided)\n",
        "        if self.transform:\n",
        "            x = self.transform(x)\n",
        "\n",
        "        # Convert to PyTorch tensors\n",
        "        x = torch.tensor(x, dtype=torch.float32)\n",
        "        y = torch.tensor(y, dtype=torch.long)\n",
        "        return x, y\n",
        "\n",
        "\n",
        "# Mapping class names to integer indices\n",
        "label_map = {\n",
        "    'background': 0,\n",
        "    'binaryblackhole': 1,\n",
        "    'ccsn': 2,\n",
        "    'glitch': 3\n",
        "}\n",
        "\n",
        "# Instantiate dataset (with augmentation enabled by default)\n",
        "dataset = GravitationalWaveDataset('./GW2_Andy.h5', label_map, train=True)\n",
        "\n",
        "# Split into training, validation, and test sets (70/20/10 split)\n",
        "train_size = int(0.7 * len(dataset))\n",
        "val_size = int(0.2 * len(dataset))\n",
        "test_size = len(dataset) - (train_size + val_size)\n",
        "\n",
        "train_dataset, val_dataset, test_dataset = random_split(\n",
        "    dataset, [train_size, val_size, test_size])\n",
        "\n",
        "# Toggle data augmentation for each subset\n",
        "train_dataset.dataset.train = True\n",
        "val_dataset.dataset.train = False\n",
        "test_dataset.dataset.train = False\n",
        "\n",
        "# Number of parallel data-loading worker processes\n",
        "worker_count = 6\n",
        "\n",
        "# DataLoader for training (shuffled, augmented)\n",
        "train_loader = DataLoader(train_dataset, batch_size=64, shuffle=True,\n",
        "                          num_workers=worker_count, pin_memory=True)\n",
        "\n",
        "# DataLoaders for validation and test (no shuffle, no augmentation)\n",
        "val_loader = DataLoader(val_dataset, batch_size=64, shuffle=False,\n",
        "                        num_workers=worker_count, pin_memory=True)\n",
        "\n",
        "test_loader = DataLoader(test_dataset, batch_size=64, shuffle=False,\n",
        "                         num_workers=worker_count, pin_memory=True)"
      ]
    },
    {
      "cell_type": "markdown",
      "id": "1cfe7863",
      "metadata": {
        "id": "1cfe7863"
      },
      "source": [
        "## Define Model"
      ]
    },
    {
      "cell_type": "code",
      "execution_count": null,
      "id": "Ko9Z4LMpzwgp",
      "metadata": {
        "id": "Ko9Z4LMpzwgp"
      },
      "outputs": [],
      "source": [
        "# 1D Inception block adapted for time-series signals\n",
        "class InceptionBlock1D(nn.Module):\n",
        "    def __init__(self, in_ch, out_ch, stride=1, depthwise=False):\n",
        "        super().__init__()\n",
        "\n",
        "        # Inner function to define convolution layer(s)\n",
        "        def conv(k):\n",
        "            # Use depthwise separable convolution if enabled\n",
        "            if depthwise:\n",
        "                return nn.Sequential(\n",
        "                    # Depthwise convolution: one filter per input channel\n",
        "                    nn.Conv1d(in_ch, in_ch, k, stride=stride,\n",
        "                              padding=k//2, groups=in_ch, bias=False),\n",
        "                    # Pointwise convolution: mixes channels\n",
        "                    nn.Conv1d(in_ch, out_ch, 1, bias=False))\n",
        "            else:\n",
        "                # Standard convolution\n",
        "                return nn.Conv1d(in_ch, out_ch, k,\n",
        "                                 stride=stride, padding=k//2, bias=False)\n",
        "\n",
        "        # Four convolution branches with different receptive fields\n",
        "        self.branch1 = conv(1)  # Smallest kernel: fine detail\n",
        "        self.branch3 = conv(3)  # Medium kernel: moderate context\n",
        "        self.branch5 = conv(5)  # Large kernel: broader features\n",
        "        self.branch7 = conv(7)  # Largest kernel: long-range dependencies\n",
        "\n",
        "        # Pooling branch: aggregates context, then reduces channels via 1x1 conv\n",
        "        self.pool     = nn.MaxPool1d(3, stride=stride, padding=1)\n",
        "        self.br_pool  = nn.Conv1d(in_ch, out_ch, 1, bias=False)\n",
        "\n",
        "    def forward(self, x):\n",
        "        # Concatenate the outputs from all five branches along the channel axis\n",
        "        return torch.cat([\n",
        "            self.branch1(x),\n",
        "            self.branch3(x),\n",
        "            self.branch5(x),\n",
        "            self.branch7(x),\n",
        "            self.br_pool(self.pool(x))\n",
        "        ], dim=1)\n",
        "\n",
        "\n",
        "# Main CNN model for gravitational wave classification\n",
        "class GWClassifier(nn.Module):\n",
        "    def __init__(self,\n",
        "                 in_channels: int = 2,         # Two detectors: L1, H1\n",
        "                 base_channels: int = 32,      # Base width for channels\n",
        "                 num_classes: int = 4,         # Number of output classes\n",
        "                 depthwise: bool = False):     # Whether to use depthwise separable convs\n",
        "        super().__init__()\n",
        "\n",
        "        self.branch_count = 5  # Each Inception block outputs 5 * out_channels\n",
        "\n",
        "        # -------------------- Block 1 --------------------\n",
        "        self.incept1 = InceptionBlock1D(\n",
        "            in_channels, base_channels,\n",
        "            stride=2, depthwise=depthwise)  # Downsamples by factor of 2\n",
        "        self.out1_channels = self.branch_count * base_channels\n",
        "        self.bn1 = nn.BatchNorm1d(self.out1_channels)\n",
        "\n",
        "        # -------------------- Block 2 --------------------\n",
        "        self.incept2 = InceptionBlock1D(\n",
        "            self.out1_channels, base_channels * 2,\n",
        "            stride=2, depthwise=depthwise)\n",
        "        self.out2_channels = self.branch_count * base_channels * 2\n",
        "        self.bn2 = nn.BatchNorm1d(self.out2_channels)\n",
        "\n",
        "        # -------------------- Block 3 --------------------\n",
        "        self.incept3 = InceptionBlock1D(\n",
        "            self.out2_channels, base_channels * 2,\n",
        "            stride=2, depthwise=depthwise)\n",
        "        self.out3_channels = self.branch_count * base_channels * 2\n",
        "        self.bn3 = nn.BatchNorm1d(self.out3_channels)\n",
        "\n",
        "        # -------------------- Block 4 --------------------\n",
        "        self.incept4 = InceptionBlock1D(\n",
        "            self.out3_channels, base_channels * 2,\n",
        "            stride=2, depthwise=depthwise)\n",
        "        self.out4_channels = self.branch_count * base_channels * 2\n",
        "        self.bn4 = nn.BatchNorm1d(self.out4_channels)\n",
        "\n",
        "        # -------------------- Classification Head --------------------\n",
        "\n",
        "        # Global pooling (per feature map) reduces time dimension to 1\n",
        "        self.global_pool_avg = nn.AdaptiveAvgPool1d(1)\n",
        "        self.global_pool_max = nn.AdaptiveMaxPool1d(1)\n",
        "\n",
        "        # Fully connected classifier\n",
        "        self.fc  = nn.Linear(self.out4_channels * 2, 32)  # Combined max + avg pooled channels\n",
        "        self.fc2 = nn.Linear(32, num_classes)\n",
        "\n",
        "        self.dropout = nn.Dropout(0.4)  # Prevent overfitting\n",
        "        self.relu = nn.ReLU(inplace=True)\n",
        "\n",
        "        self.init_weights()  # Optional custom initialization\n",
        "\n",
        "    # -------------------- Weight Initialization --------------------\n",
        "    def init_weights(self):\n",
        "        for m in self.modules():\n",
        "            if isinstance(m, nn.Conv1d):\n",
        "                nn.init.kaiming_normal_(m.weight, nonlinearity='relu')  # Good for ReLU\n",
        "                if m.bias is not None:\n",
        "                    nn.init.constant_(m.bias, 0)\n",
        "            elif isinstance(m, nn.BatchNorm1d):\n",
        "                nn.init.constant_(m.weight, 1)\n",
        "                nn.init.constant_(m.bias, 0)\n",
        "\n",
        "    # -------------------- Forward Pass --------------------\n",
        "    def forward(self, x):\n",
        "        # Pass through each inception block with BN and ReLU\n",
        "        x = self.relu(self.bn1(self.incept1(x)))\n",
        "        x = self.relu(self.bn2(self.incept2(x)))\n",
        "        x = self.dropout(x)  # Dropout between blocks\n",
        "        x = self.relu(self.bn3(self.incept3(x)))\n",
        "        x = self.relu(self.bn4(self.incept4(x)))\n",
        "\n",
        "        # Global average and max pooling: (B, C, T) → (B, C, 1)\n",
        "        avg_pool = self.global_pool_avg(x)\n",
        "        max_pool = self.global_pool_max(x)\n",
        "\n",
        "        # Concatenate pooled features and remove singleton time dim\n",
        "        x = torch.cat([avg_pool, max_pool], dim=1).squeeze(-1)  # (B, 2C)\n",
        "\n",
        "        x = self.dropout(x)\n",
        "        x = self.fc(x)\n",
        "        x = self.fc2(x)  # Final output logits (B, num_classes)\n",
        "\n",
        "        return x\n"
      ]
    },
    {
      "cell_type": "code",
      "execution_count": null,
      "id": "O-pLW330N9Ow",
      "metadata": {
        "colab": {
          "base_uri": "https://localhost:8080/"
        },
        "id": "O-pLW330N9Ow",
        "outputId": "3cf4e4ad-e8dd-4ed3-86b1-6e7650cf63de"
      },
      "outputs": [
        {
          "output_type": "stream",
          "name": "stdout",
          "text": [
            "cuda\n"
          ]
        }
      ],
      "source": [
        "# Use GPU if available, otherwise run on CPU\n",
        "device = torch.device('cuda' if torch.cuda.is_available() else 'cpu')\n",
        "print(device)"
      ]
    },
    {
      "cell_type": "markdown",
      "id": "50cac3a5",
      "metadata": {
        "id": "50cac3a5"
      },
      "source": [
        "## Define Hyperparameters"
      ]
    },
    {
      "cell_type": "code",
      "execution_count": null,
      "id": "bn8UAbhBUA4A",
      "metadata": {
        "id": "bn8UAbhBUA4A"
      },
      "outputs": [],
      "source": [
        "class FocalLoss(nn.Module):\n",
        "    def __init__(self, alpha=torch.ones(4), gamma=1.0, reduction=\"mean\"):\n",
        "        super().__init__()\n",
        "\n",
        "        # alpha: weighting factor for each class (e.g., to counter class imbalance)\n",
        "        self.alpha = alpha if alpha is not None else torch.ones(4)\n",
        "\n",
        "        # gamma: focusing parameter (higher → focus more on hard examples)\n",
        "        self.gamma = gamma\n",
        "\n",
        "        # reduction: \"mean\" to return average loss, else returns element-wise loss\n",
        "        self.reduction = reduction\n",
        "\n",
        "\n",
        "def forward(self, logits, targets):\n",
        "    # Step 1: Compute standard cross-entropy loss for each sample, without reducing to a mean\n",
        "    # Shape: (batch_size,)\n",
        "    ce = F.cross_entropy(logits, targets, reduction=\"none\")\n",
        "\n",
        "    # Step 2: Compute pt, the probability of the correct class for each sample\n",
        "    # Since ce = -log(pt), we get pt = exp(-ce)\n",
        "    pt = torch.exp(-ce)\n",
        "\n",
        "    # Step 3: Gather alpha for each sample based on its true class label\n",
        "    # alpha is a tensor of class weights (e.g., [1, 2, 1, 1] for class imbalance)\n",
        "    # Shape of at: (batch_size,)\n",
        "    at = self.alpha.to(logits.device).gather(0, targets)\n",
        "\n",
        "    # Step 4: Compute focal loss for each sample\n",
        "    # The formula is: FL = alpha_t * (1 - pt)^gamma * CE\n",
        "    # - (1 - pt)^gamma reduces the weight of easy examples\n",
        "    # - at scales the loss depending on class importance\n",
        "    focal = at * (1 - pt) ** self.gamma * ce\n",
        "\n",
        "    # Step 5: Return either the mean of losses or the raw loss per sample\n",
        "    return focal.mean() if self.reduction == \"mean\" else focal\n"
      ]
    },
    {
      "cell_type": "code",
      "execution_count": null,
      "id": "9c001665",
      "metadata": {
        "colab": {
          "base_uri": "https://localhost:8080/"
        },
        "id": "9c001665",
        "outputId": "633ac42d-5420-4684-e70f-041190483261"
      },
      "outputs": [
        {
          "output_type": "stream",
          "name": "stderr",
          "text": [
            "<ipython-input-8-3f13cac44cf7>:11: FutureWarning: `torch.cuda.amp.GradScaler(args...)` is deprecated. Please use `torch.amp.GradScaler('cuda', args...)` instead.\n",
            "  scaler = GradScaler()\n"
          ]
        }
      ],
      "source": [
        "# Fix random seed\n",
        "torch.manual_seed(25)\n",
        "\n",
        "# Define Epochs\n",
        "num_epochs = 30\n",
        "\n",
        "# Define RNN network\n",
        "model = GWClassifier(base_channels=64, depthwise=True)\n",
        "\n",
        "# Define scaler\n",
        "scaler = GradScaler()\n",
        "\n",
        "# Define loss function and optimizer\n",
        "ce_weights = torch.tensor([1.45, 1.0, 1.25, 1.0],   # bg, bbh, ccsn, glitch\n",
        "                          dtype=torch.float32,\n",
        "                          device=device)\n",
        "criterion = nn.CrossEntropyLoss(weight=ce_weights, label_smoothing=0.05)\n",
        "optimizer = optim.Adam(model.parameters(), lr=1e-4, weight_decay=1e-4)\n",
        "\n",
        "# One-Cycle LR schedule\n",
        "steps_per_epoch = len(train_loader)\n",
        "scheduler = torch.optim.lr_scheduler.OneCycleLR(\n",
        "    optimizer,\n",
        "    max_lr=5e-3,\n",
        "    steps_per_epoch=steps_per_epoch,\n",
        "    epochs=num_epochs,\n",
        "    pct_start=0.3\n",
        ")\n",
        "\n",
        "# Best Bias for CCSN\n",
        "best_bias = -0.05\n",
        "\n",
        "swa_start = int(0.8 * num_epochs) # start averaging after 80 %\n",
        "swa_model  = AveragedModel(model).to(device) # running weight average\n",
        "swa_sched  = SWALR(optimizer, swa_lr=3e-4) # flat, low LR once SWA begins\n",
        "\n",
        "# add .cuda() for GPU acceleration\n",
        "device = torch.device('cuda' if torch.cuda.is_available() else 'cpu')\n",
        "model = model.to(device)"
      ]
    },
    {
      "cell_type": "markdown",
      "id": "a0b88a3d",
      "metadata": {
        "id": "a0b88a3d"
      },
      "source": [
        "## Identify Tracked Values"
      ]
    },
    {
      "cell_type": "code",
      "execution_count": null,
      "id": "1a9efa78",
      "metadata": {
        "id": "1a9efa78"
      },
      "outputs": [],
      "source": [
        "# Tracking training loss per each input/target sequence fwd/bwd pass\n",
        "training_loss = []\n",
        "validation_accuracy = []"
      ]
    },
    {
      "cell_type": "markdown",
      "id": "1b3bc1df",
      "metadata": {
        "id": "1b3bc1df"
      },
      "source": []
    },
    {
      "cell_type": "markdown",
      "id": "4b818cf8",
      "metadata": {
        "id": "4b818cf8"
      },
      "source": [
        "## Train Model"
      ]
    },
    {
      "cell_type": "code",
      "execution_count": null,
      "id": "On4ni-cLToXs",
      "metadata": {
        "id": "On4ni-cLToXs"
      },
      "outputs": [],
      "source": [
        "def mixup(x, y, alpha=0.1):\n",
        "    # Sample lambda from a Beta(alpha, alpha) distribution\n",
        "    # This controls the strength of interpolation between samples\n",
        "    lam = np.random.beta(alpha, alpha)\n",
        "\n",
        "    # Generate a random permutation of the batch indices\n",
        "    # Used to shuffle the batch and pair each sample with another\n",
        "    idx = torch.randperm(x.size(0), device=x.device)\n",
        "\n",
        "    # Perform the linear interpolation between original and shuffled samples\n",
        "    # For input:  x_mix = lam * x + (1 - lam) * x[idx]\n",
        "    # For labels: y_mix = lam * y + (1 - lam) * y[idx] (computed externally)\n",
        "    return lam * x + (1 - lam) * x[idx], lam, idx\n",
        "\n",
        "\n",
        "mixup_start = 10 # epoch to start MixUp (0-based counting)"
      ]
    },
    {
      "cell_type": "code",
      "execution_count": null,
      "id": "5a812d26",
      "metadata": {
        "colab": {
          "base_uri": "https://localhost:8080/"
        },
        "id": "5a812d26",
        "outputId": "6d56ab69-89cf-40b6-ac48-db7da0f9d0d9",
        "scrolled": false
      },
      "outputs": [
        {
          "output_type": "stream",
          "name": "stderr",
          "text": [
            "\r  0%|          | 0/30 [00:00<?, ?it/s]<ipython-input-11-53166493dbd6>:24: FutureWarning: `torch.cuda.amp.autocast(args...)` is deprecated. Please use `torch.amp.autocast('cuda', args...)` instead.\n",
            "  with autocast():  # Automatic Mixed Precision for efficiency\n",
            "  3%|▎         | 1/30 [00:12<05:54, 12.23s/it]"
          ]
        },
        {
          "output_type": "stream",
          "name": "stdout",
          "text": [
            "Epoch 1/30 - Train Loss: 0.0189 - Train Acc: 0.5096 - Val Loss: 1.0970 - Val Acc: 0.4988\n"
          ]
        },
        {
          "output_type": "stream",
          "name": "stderr",
          "text": [
            "\r  7%|▋         | 2/30 [00:22<05:04, 10.89s/it]"
          ]
        },
        {
          "output_type": "stream",
          "name": "stdout",
          "text": [
            "Epoch 2/30 - Train Loss: 0.0149 - Train Acc: 0.6322 - Val Loss: 1.0382 - Val Acc: 0.6136\n"
          ]
        },
        {
          "output_type": "stream",
          "name": "stderr",
          "text": [
            "\r 10%|█         | 3/30 [00:32<04:44, 10.55s/it]"
          ]
        },
        {
          "output_type": "stream",
          "name": "stdout",
          "text": [
            "Epoch 3/30 - Train Loss: 0.0146 - Train Acc: 0.6554 - Val Loss: 0.8049 - Val Acc: 0.7479\n"
          ]
        },
        {
          "output_type": "stream",
          "name": "stderr",
          "text": [
            "\r 13%|█▎        | 4/30 [00:42<04:28, 10.34s/it]"
          ]
        },
        {
          "output_type": "stream",
          "name": "stdout",
          "text": [
            "Epoch 4/30 - Train Loss: 0.0131 - Train Acc: 0.7061 - Val Loss: 0.8325 - Val Acc: 0.6502\n"
          ]
        },
        {
          "output_type": "stream",
          "name": "stderr",
          "text": [
            "\r 17%|█▋        | 5/30 [00:52<04:15, 10.23s/it]"
          ]
        },
        {
          "output_type": "stream",
          "name": "stdout",
          "text": [
            "Epoch 5/30 - Train Loss: 0.0125 - Train Acc: 0.7300 - Val Loss: 0.8616 - Val Acc: 0.6770\n"
          ]
        },
        {
          "output_type": "stream",
          "name": "stderr",
          "text": [
            "\r 20%|██        | 6/30 [01:02<04:04, 10.17s/it]"
          ]
        },
        {
          "output_type": "stream",
          "name": "stdout",
          "text": [
            "Epoch 6/30 - Train Loss: 0.0118 - Train Acc: 0.7480 - Val Loss: 0.7679 - Val Acc: 0.7656\n"
          ]
        },
        {
          "output_type": "stream",
          "name": "stderr",
          "text": [
            "\r 23%|██▎       | 7/30 [01:12<03:53, 10.13s/it]"
          ]
        },
        {
          "output_type": "stream",
          "name": "stdout",
          "text": [
            "Epoch 7/30 - Train Loss: 0.0110 - Train Acc: 0.7810 - Val Loss: 0.7308 - Val Acc: 0.7790\n"
          ]
        },
        {
          "output_type": "stream",
          "name": "stderr",
          "text": [
            "\r 27%|██▋       | 8/30 [01:22<03:43, 10.17s/it]"
          ]
        },
        {
          "output_type": "stream",
          "name": "stdout",
          "text": [
            "Epoch 8/30 - Train Loss: 0.0108 - Train Acc: 0.7900 - Val Loss: 0.7339 - Val Acc: 0.7747\n"
          ]
        },
        {
          "output_type": "stream",
          "name": "stderr",
          "text": [
            "\r 30%|███       | 9/30 [01:32<03:34, 10.19s/it]"
          ]
        },
        {
          "output_type": "stream",
          "name": "stdout",
          "text": [
            "Epoch 9/30 - Train Loss: 0.0103 - Train Acc: 0.8073 - Val Loss: 0.7443 - Val Acc: 0.7821\n"
          ]
        },
        {
          "output_type": "stream",
          "name": "stderr",
          "text": [
            "\r 33%|███▎      | 10/30 [01:43<03:24, 10.22s/it]"
          ]
        },
        {
          "output_type": "stream",
          "name": "stdout",
          "text": [
            "Epoch 10/30 - Train Loss: 0.0102 - Train Acc: 0.8057 - Val Loss: 0.6650 - Val Acc: 0.8303\n"
          ]
        },
        {
          "output_type": "stream",
          "name": "stderr",
          "text": [
            "\r 37%|███▋      | 11/30 [01:53<03:14, 10.24s/it]"
          ]
        },
        {
          "output_type": "stream",
          "name": "stdout",
          "text": [
            "Epoch 11/30 - Train Loss: 0.0119 - Train Acc: 0.7660 - Val Loss: 0.8720 - Val Acc: 0.6819\n"
          ]
        },
        {
          "output_type": "stream",
          "name": "stderr",
          "text": [
            "\r 40%|████      | 12/30 [02:03<03:04, 10.23s/it]"
          ]
        },
        {
          "output_type": "stream",
          "name": "stdout",
          "text": [
            "Epoch 12/30 - Train Loss: 0.0111 - Train Acc: 0.7924 - Val Loss: 0.9280 - Val Acc: 0.6532\n"
          ]
        },
        {
          "output_type": "stream",
          "name": "stderr",
          "text": [
            "\r 43%|████▎     | 13/30 [02:14<02:54, 10.24s/it]"
          ]
        },
        {
          "output_type": "stream",
          "name": "stdout",
          "text": [
            "Epoch 13/30 - Train Loss: 0.0117 - Train Acc: 0.7753 - Val Loss: 0.6910 - Val Acc: 0.7991\n"
          ]
        },
        {
          "output_type": "stream",
          "name": "stderr",
          "text": [
            "\r 47%|████▋     | 14/30 [02:24<02:43, 10.25s/it]"
          ]
        },
        {
          "output_type": "stream",
          "name": "stdout",
          "text": [
            "Epoch 14/30 - Train Loss: 0.0114 - Train Acc: 0.7815 - Val Loss: 0.6725 - Val Acc: 0.8248\n"
          ]
        },
        {
          "output_type": "stream",
          "name": "stderr",
          "text": [
            "\r 50%|█████     | 15/30 [02:34<02:34, 10.27s/it]"
          ]
        },
        {
          "output_type": "stream",
          "name": "stdout",
          "text": [
            "Epoch 15/30 - Train Loss: 0.0110 - Train Acc: 0.7954 - Val Loss: 0.5784 - Val Acc: 0.8547\n"
          ]
        },
        {
          "output_type": "stream",
          "name": "stderr",
          "text": [
            "\r 53%|█████▎    | 16/30 [02:44<02:23, 10.27s/it]"
          ]
        },
        {
          "output_type": "stream",
          "name": "stdout",
          "text": [
            "Epoch 16/30 - Train Loss: 0.0108 - Train Acc: 0.8035 - Val Loss: 0.6327 - Val Acc: 0.8352\n"
          ]
        },
        {
          "output_type": "stream",
          "name": "stderr",
          "text": [
            "\r 57%|█████▋    | 17/30 [02:55<02:13, 10.30s/it]"
          ]
        },
        {
          "output_type": "stream",
          "name": "stdout",
          "text": [
            "Epoch 17/30 - Train Loss: 0.0108 - Train Acc: 0.8037 - Val Loss: 0.6940 - Val Acc: 0.8034\n"
          ]
        },
        {
          "output_type": "stream",
          "name": "stderr",
          "text": [
            "\r 60%|██████    | 18/30 [03:05<02:03, 10.28s/it]"
          ]
        },
        {
          "output_type": "stream",
          "name": "stdout",
          "text": [
            "Epoch 18/30 - Train Loss: 0.0107 - Train Acc: 0.8064 - Val Loss: 0.7923 - Val Acc: 0.7015\n"
          ]
        },
        {
          "output_type": "stream",
          "name": "stderr",
          "text": [
            "\r 63%|██████▎   | 19/30 [03:15<01:52, 10.27s/it]"
          ]
        },
        {
          "output_type": "stream",
          "name": "stdout",
          "text": [
            "Epoch 19/30 - Train Loss: 0.0102 - Train Acc: 0.8197 - Val Loss: 0.5939 - Val Acc: 0.8516\n"
          ]
        },
        {
          "output_type": "stream",
          "name": "stderr",
          "text": [
            "\r 67%|██████▋   | 20/30 [03:26<01:43, 10.33s/it]"
          ]
        },
        {
          "output_type": "stream",
          "name": "stdout",
          "text": [
            "Epoch 20/30 - Train Loss: 0.0103 - Train Acc: 0.8187 - Val Loss: 0.5810 - Val Acc: 0.8565\n"
          ]
        },
        {
          "output_type": "stream",
          "name": "stderr",
          "text": [
            "\r 70%|███████   | 21/30 [03:36<01:32, 10.29s/it]"
          ]
        },
        {
          "output_type": "stream",
          "name": "stdout",
          "text": [
            "Epoch 21/30 - Train Loss: 0.0101 - Train Acc: 0.8246 - Val Loss: 0.6274 - Val Acc: 0.8107\n"
          ]
        },
        {
          "output_type": "stream",
          "name": "stderr",
          "text": [
            "\r 73%|███████▎  | 22/30 [03:46<01:22, 10.33s/it]"
          ]
        },
        {
          "output_type": "stream",
          "name": "stdout",
          "text": [
            "Epoch 22/30 - Train Loss: 0.0108 - Train Acc: 0.8043 - Val Loss: 0.5896 - Val Acc: 0.8614\n"
          ]
        },
        {
          "output_type": "stream",
          "name": "stderr",
          "text": [
            "\r 77%|███████▋  | 23/30 [03:56<01:12, 10.29s/it]"
          ]
        },
        {
          "output_type": "stream",
          "name": "stdout",
          "text": [
            "Epoch 23/30 - Train Loss: 0.0106 - Train Acc: 0.8101 - Val Loss: 0.6360 - Val Acc: 0.8242\n"
          ]
        },
        {
          "output_type": "stream",
          "name": "stderr",
          "text": [
            "\r 80%|████████  | 24/30 [04:07<01:01, 10.23s/it]"
          ]
        },
        {
          "output_type": "stream",
          "name": "stdout",
          "text": [
            "Epoch 24/30 - Train Loss: 0.0101 - Train Acc: 0.8227 - Val Loss: 0.5609 - Val Acc: 0.8681\n"
          ]
        },
        {
          "output_type": "stream",
          "name": "stderr",
          "text": [
            "\r 83%|████████▎ | 25/30 [04:17<00:51, 10.23s/it]"
          ]
        },
        {
          "output_type": "stream",
          "name": "stdout",
          "text": [
            "Epoch 25/30 - Train Loss: 0.0099 - Train Acc: 0.8320 - Val Loss: 0.6358 - Val Acc: 0.7943\n"
          ]
        },
        {
          "output_type": "stream",
          "name": "stderr",
          "text": [
            "\r 87%|████████▋ | 26/30 [04:27<00:40, 10.24s/it]"
          ]
        },
        {
          "output_type": "stream",
          "name": "stdout",
          "text": [
            "Epoch 26/30 - Train Loss: 0.0101 - Train Acc: 0.8235 - Val Loss: 0.5871 - Val Acc: 0.8394\n"
          ]
        },
        {
          "output_type": "stream",
          "name": "stderr",
          "text": [
            "\r 90%|█████████ | 27/30 [04:37<00:30, 10.24s/it]"
          ]
        },
        {
          "output_type": "stream",
          "name": "stdout",
          "text": [
            "Epoch 27/30 - Train Loss: 0.0102 - Train Acc: 0.8196 - Val Loss: 0.5525 - Val Acc: 0.8626\n"
          ]
        },
        {
          "output_type": "stream",
          "name": "stderr",
          "text": [
            "\r 93%|█████████▎| 28/30 [04:48<00:20, 10.29s/it]"
          ]
        },
        {
          "output_type": "stream",
          "name": "stdout",
          "text": [
            "Epoch 28/30 - Train Loss: 0.0101 - Train Acc: 0.8287 - Val Loss: 0.5778 - Val Acc: 0.8492\n"
          ]
        },
        {
          "output_type": "stream",
          "name": "stderr",
          "text": [
            "\r 97%|█████████▋| 29/30 [04:58<00:10, 10.28s/it]"
          ]
        },
        {
          "output_type": "stream",
          "name": "stdout",
          "text": [
            "Epoch 29/30 - Train Loss: 0.0101 - Train Acc: 0.8226 - Val Loss: 0.5732 - Val Acc: 0.8565\n"
          ]
        },
        {
          "output_type": "stream",
          "name": "stderr",
          "text": [
            "100%|██████████| 30/30 [05:08<00:00, 10.29s/it]"
          ]
        },
        {
          "output_type": "stream",
          "name": "stdout",
          "text": [
            "Epoch 30/30 - Train Loss: 0.0098 - Train Acc: 0.8313 - Val Loss: 0.5723 - Val Acc: 0.8547\n",
            "SWA: updating BatchNorm statistics…\n"
          ]
        },
        {
          "output_type": "stream",
          "name": "stderr",
          "text": [
            "\n"
          ]
        }
      ],
      "source": [
        "for epoch in tqdm.trange(num_epochs):  # Iterate through each training epoch\n",
        "    model.train()  # Set model to training mode\n",
        "\n",
        "    # Initialize running metrics\n",
        "    running_loss = 0.0\n",
        "    running_total = 0\n",
        "    correct = 0\n",
        "\n",
        "    # Loop through mini-batches\n",
        "    for batch_idx, (inputs, labels) in enumerate(train_loader):\n",
        "        inputs, labels = inputs.to(device), labels.to(device)\n",
        "\n",
        "        # ----------------------- MixUp Augmentation -----------------------\n",
        "        if epoch >= mixup_start:\n",
        "            inputs, lam, idx = mixup(inputs, labels)  # Mix input and shuffled versions\n",
        "            labels_a, labels_b = labels, labels[idx]  # Keep original and mixed labels\n",
        "        else:\n",
        "            lam = 1.0  # No mixing\n",
        "            labels_a, labels_b = labels, labels  # Dummy values\n",
        "\n",
        "        # ----------------------- Forward & Backward Pass -----------------------\n",
        "        optimizer.zero_grad(set_to_none=True)  # Clear gradients efficiently\n",
        "\n",
        "        with autocast():  # Automatic Mixed Precision for efficiency\n",
        "            outputs = model(inputs)\n",
        "\n",
        "            # Compute loss using MixUp interpolation if active\n",
        "            if lam == 1.0:\n",
        "                loss = criterion(outputs, labels_a)\n",
        "            else:\n",
        "                loss = lam * criterion(outputs, labels_a) + \\\n",
        "                       (1 - lam) * criterion(outputs, labels_b)\n",
        "\n",
        "        # Scale loss for mixed precision and backpropagate\n",
        "        scaler.scale(loss).backward()\n",
        "        scaler.step(optimizer)\n",
        "        scaler.update()\n",
        "\n",
        "        # ----------------------- Learning Rate Scheduler -----------------------\n",
        "        if epoch >= swa_start:\n",
        "            swa_sched.step()  # Small constant LR for SWA phase\n",
        "        else:\n",
        "            scheduler.step()  # Standard learning rate scheduler\n",
        "\n",
        "        # ----------------------- Accuracy Calculation -----------------------\n",
        "        _, preds = torch.max(outputs, 1)  # Get predicted class indices\n",
        "\n",
        "        if lam == 1.0:\n",
        "            batch_correct = (preds == labels_a).sum().item()\n",
        "        else:\n",
        "            # Compute soft MixUp accuracy as expected correct predictions\n",
        "            batch_correct = (\n",
        "                lam * (preds == labels_a).float() +\n",
        "                (1 - lam) * (preds == labels_b).float()\n",
        "            ).sum()\n",
        "\n",
        "        # Accumulate stats for epoch\n",
        "        running_loss += loss.detach()  # Don't track gradients for stats\n",
        "        correct += batch_correct\n",
        "        running_total += preds.size(0)  # Total number of samples seen\n",
        "\n",
        "    # ----------------------- End of Epoch Training Metrics -----------------------\n",
        "    train_loss = running_loss.cpu().item() / len(train_loader.dataset)\n",
        "    train_acc = correct / running_total\n",
        "    training_loss.append(train_loss)\n",
        "\n",
        "    # ----------------------- Validation Loop -----------------------\n",
        "    model.eval()  # Switch to eval mode for validation (disables dropout, etc.)\n",
        "    val_loss = 0.0\n",
        "    val_correct = 0\n",
        "\n",
        "    with torch.no_grad():  # No gradient tracking during validation\n",
        "        for inputs, labels in val_loader:\n",
        "            inputs, labels = inputs.to(device), labels.to(device)\n",
        "            outputs = model(inputs)\n",
        "            loss = criterion(outputs, labels)\n",
        "            val_loss += loss.item() * inputs.size(0)  # Accumulate total loss\n",
        "            _, preds = torch.max(outputs, 1)\n",
        "            val_correct += (preds == labels).sum().item()\n",
        "\n",
        "    val_loss /= len(val_loader.dataset)  # Normalize loss\n",
        "    val_acc = val_correct / len(val_loader.dataset)\n",
        "    validation_accuracy.append(val_acc)\n",
        "\n",
        "    # Print metrics for the epoch\n",
        "    print(f\"Epoch {epoch+1}/{num_epochs} - \"\n",
        "          f\"Train Loss: {train_loss:.4f} - Train Acc: {train_acc:.4f} - \"\n",
        "          f\"Val Loss: {val_loss:.4f} - Val Acc: {val_acc:.4f}\")\n",
        "\n",
        "    # ----------------------- SWA Weight Averaging -----------------------\n",
        "    if epoch >= swa_start:\n",
        "        swa_model.update_parameters(model)  # Update SWA weights with current model\n",
        "\n",
        "\n",
        "print(\"SWA: updating BatchNorm statistics…\")\n",
        "update_bn(train_loader, swa_model, device=device)  # Recompute batchnorm stats for SWA model\n",
        "model = swa_model  # Replace model with its SWA-averaged version for final use"
      ]
    },
    {
      "cell_type": "code",
      "execution_count": null,
      "id": "ZN2Sau9u0IyQ",
      "metadata": {
        "colab": {
          "base_uri": "https://localhost:8080/"
        },
        "id": "ZN2Sau9u0IyQ",
        "outputId": "1db3a4f7-7712-46bf-fd29-2bf134d3c183"
      },
      "outputs": [
        {
          "output_type": "stream",
          "name": "stderr",
          "text": [
            "<ipython-input-12-cb4aabc6fa74>:17: FutureWarning: `torch.cuda.amp.GradScaler(args...)` is deprecated. Please use `torch.amp.GradScaler('cuda', args...)` instead.\n",
            "  scaler_ft = GradScaler()\n",
            "<ipython-input-12-cb4aabc6fa74>:35: FutureWarning: `torch.cuda.amp.autocast(args...)` is deprecated. Please use `torch.amp.autocast('cuda', args...)` instead.\n",
            "  with autocast():\n"
          ]
        },
        {
          "output_type": "stream",
          "name": "stdout",
          "text": [
            "[FT] Epoch 1/5 loss=0.0063  acc=0.8699\n",
            "[FT] Epoch 2/5 loss=0.0060  acc=0.8715\n",
            "[FT] Epoch 3/5 loss=0.0058  acc=0.8704\n",
            "[FT] Epoch 4/5 loss=0.0059  acc=0.8675\n",
            "[FT] Epoch 5/5 loss=0.0057  acc=0.8702\n",
            "Re-computing SWA weights & BatchNorm stats…\n"
          ]
        }
      ],
      "source": [
        "finetune_epochs = 5 # Number of epochs to fine-tune after main training\n",
        "\n",
        "# Define cross-entropy loss with class weights to handle class imbalance\n",
        "criterion_ft = nn.CrossEntropyLoss(weight=ce_weights)\n",
        "\n",
        "# Low learning rate optimizer for fine-tuning\n",
        "# AdamW is retained to preserve weight decay behavior\n",
        "optimizer_ft = torch.optim.AdamW(model.parameters(), lr=5e-5)\n",
        "\n",
        "# Cosine annealing learning rate scheduler over 5 epochs\n",
        "# Smoothly decreases LR from 5e-5 to 1e-6\n",
        "sched_ft = torch.optim.lr_scheduler.CosineAnnealingLR(\n",
        "    optimizer_ft, T_max=finetune_epochs, eta_min=1e-6\n",
        ")\n",
        "\n",
        "# Gradient scaler for mixed precision training (saves memory and speeds up training)\n",
        "scaler_ft = GradScaler()\n",
        "\n",
        "# Turn on training mode (enables dropout, batch norm updates, etc.)\n",
        "# MixUp is intentionally disabled here for training stability\n",
        "model.train()\n",
        "\n",
        "for ep in range(finetune_epochs):\n",
        "    # Reset tracking metrics for the epoch\n",
        "    running_loss, correct, total = 0.0, 0, 0\n",
        "\n",
        "    for inputs, labels in train_loader:\n",
        "        # Move inputs and labels to the selected device (e.g., GPU)\n",
        "        inputs, labels = inputs.to(device), labels.to(device)\n",
        "\n",
        "        # Reset gradients\n",
        "        optimizer_ft.zero_grad(set_to_none=True)\n",
        "\n",
        "        # Forward pass with mixed precision\n",
        "        with autocast():\n",
        "            outputs = model(inputs)               # Forward pass\n",
        "            loss = criterion_ft(outputs, labels)  # Standard cross-entropy loss\n",
        "\n",
        "        # Backward pass with gradient scaling\n",
        "        scaler_ft.scale(loss).backward()\n",
        "        scaler_ft.step(optimizer_ft)\n",
        "        scaler_ft.update()\n",
        "\n",
        "        # Compute predictions\n",
        "        _, preds = torch.max(outputs, 1)\n",
        "\n",
        "        # Accumulate metrics\n",
        "        running_loss += loss.detach()\n",
        "        correct += (preds == labels).sum().item()\n",
        "        total += labels.size(0)\n",
        "\n",
        "    # Step the learning rate scheduler after each epoch\n",
        "    sched_ft.step()\n",
        "\n",
        "    # Log fine-tuning metrics for this epoch\n",
        "    print(f\"[FT] Epoch {ep+1}/{finetune_epochs} \"\n",
        "          f\"loss={running_loss.item()/total:.4f}  \"\n",
        "          f\"acc={correct/total:.4f}\")\n",
        "\n",
        "print(\"Re-computing SWA weights & BatchNorm stats…\")\n",
        "\n",
        "# Initialize SWA model from the final fine-tuned model weights\n",
        "swa_model = AveragedModel(model)\n",
        "swa_model.to(device)\n",
        "\n",
        "# Recompute BatchNorm running statistics using the training set\n",
        "update_bn(train_loader, swa_model, device=device)\n",
        "\n",
        "# Swap in the SWA-averaged model as the final model for evaluation/inference\n",
        "model = swa_model"
      ]
    },
    {
      "cell_type": "markdown",
      "id": "0442adb6",
      "metadata": {
        "id": "0442adb6"
      },
      "source": [
        "## Visualize & Evaluate Model"
      ]
    },
    {
      "cell_type": "code",
      "execution_count": null,
      "id": "v5KIdqksxmMB",
      "metadata": {
        "id": "v5KIdqksxmMB"
      },
      "outputs": [],
      "source": [
        "def tta_logits(xb):\n",
        "    # xb : (B, 2, 4096)\n",
        "    shifts  = [0, 64, 128, -64]\n",
        "    logits  = 0\n",
        "    for s in shifts:\n",
        "        rolled = torch.roll(xb, s, dims=-1)\n",
        "        logits += model(rolled)                 # normal\n",
        "        logits += model(torch.flip(rolled, [-1]))  # time-reversed\n",
        "    return logits / (2 * len(shifts))"
      ]
    },
    {
      "cell_type": "code",
      "execution_count": null,
      "id": "93cfc511",
      "metadata": {
        "colab": {
          "base_uri": "https://localhost:8080/"
        },
        "id": "93cfc511",
        "outputId": "a8c47cdf-ab00-403b-c59c-cfdb33422d72"
      },
      "outputs": [
        {
          "output_type": "stream",
          "name": "stdout",
          "text": [
            "test_loss: 0.2806 -- test accuracy: 0.8659\n"
          ]
        }
      ],
      "source": [
        "# Set model to evaluation mode (disables dropout, uses running batchnorm stats)\n",
        "model.eval()\n",
        "\n",
        "# Initialize accumulators for test loss and accuracy\n",
        "test_loss = 0.0\n",
        "test_correct = 0\n",
        "\n",
        "# Disable gradient computation to speed up inference and reduce memory usage\n",
        "with torch.no_grad():\n",
        "    for inputs, labels in test_loader:\n",
        "        # Move input tensors to the appropriate device (CPU or GPU)\n",
        "        inputs, labels = inputs.to(device), labels.to(device)\n",
        "\n",
        "        # Forward pass through the model (with optional Test-Time Augmentation)\n",
        "        outputs = tta_logits(inputs)  # Use TTA wrapper if defined (otherwise use model(inputs))\n",
        "\n",
        "        # Add a bias vector to logits for class calibration\n",
        "        # Only the third class (index 2) is adjusted by best_bias\n",
        "        bias = torch.tensor([0.0, 0.0, best_bias, 0.0], device=outputs.device)\n",
        "        outputs += bias\n",
        "\n",
        "        # Compute loss for the batch\n",
        "        loss = criterion(outputs, labels)\n",
        "\n",
        "        # Accumulate total loss (scaled by batch size)\n",
        "        test_loss += loss.item() * inputs.size(0)\n",
        "\n",
        "        # Get predicted class indices from logits\n",
        "        _, preds = torch.max(outputs, 1)\n",
        "\n",
        "        # Count number of correct predictions\n",
        "        test_correct += (preds == labels).sum().item()\n",
        "\n",
        "# Normalize total loss over entire validation set\n",
        "test_loss /= len(val_loader.dataset)\n",
        "\n",
        "# Compute overall accuracy over the test set\n",
        "test_acc = test_correct / len(test_loader.dataset)\n",
        "\n",
        "# Print final evaluation metrics\n",
        "print(f\"test_loss: {test_loss:.4f} -- test accuracy: {test_acc:.4f}\")"
      ]
    },
    {
      "cell_type": "code",
      "execution_count": null,
      "id": "PoF2Bmtu_qT7",
      "metadata": {
        "id": "PoF2Bmtu_qT7"
      },
      "outputs": [],
      "source": [
        "# Import seaborn for prettier plot\n",
        "import seaborn as sns  # Standard Python library import\n",
        "\n",
        "sns.set(style = 'whitegrid', font_scale = 2.5)"
      ]
    },
    {
      "cell_type": "code",
      "execution_count": null,
      "id": "f2fc815b",
      "metadata": {
        "colab": {
          "base_uri": "https://localhost:8080/",
          "height": 390
        },
        "id": "f2fc815b",
        "outputId": "852d4fc9-d36e-4c76-8f26-a5104fefd2f2"
      },
      "outputs": [
        {
          "output_type": "display_data",
          "data": {
            "text/plain": [
              "<Figure size 599x429 with 1 Axes>"
            ],
            "image/png": "[encoded data removed]"
          },
          "metadata": {}
        }
      ],
      "source": [
        "# Plot the training loss and rolling mean training loss with respect to iterations\n",
        "# Feel free to change the window size\n",
        "plt.figure(figsize = (5.99, 4.29))\n",
        "\n",
        "plt.plot(training_loss, linewidth = 3)\n",
        "\n",
        "# Set tick label font sizes\n",
        "plt.xticks(fontsize=8)\n",
        "plt.yticks(fontsize=8)\n",
        "\n",
        "sns.despine()"
      ]
    },
    {
      "cell_type": "code",
      "execution_count": null,
      "id": "3OOXO86FTScG",
      "metadata": {
        "colab": {
          "base_uri": "https://localhost:8080/",
          "height": 349
        },
        "id": "3OOXO86FTScG",
        "outputId": "0a154b55-7b2e-4c73-bc54-ace4892ce6cc"
      },
      "outputs": [
        {
          "output_type": "display_data",
          "data": {
            "text/plain": [
              "<Figure size 650x362 with 2 Axes>"
            ],
            "image/png": "[encoded data removed]"
          },
          "metadata": {}
        }
      ],
      "source": [
        "from sklearn.metrics import confusion_matrix\n",
        "import seaborn as sns, matplotlib.pyplot as plt  # Import Matplotlib for plotting\n",
        "\n",
        "def biased_preds(xb, bias):\n",
        "    logits = tta_logits(xb)                     # 8-view TTA\n",
        "    logits[:, 2] += bias                        # index 2 = CCSN\n",
        "    return logits.argmax(1)\n",
        "\n",
        "model.eval()\n",
        "all_p, all_t = [], []\n",
        "with torch.no_grad():\n",
        "    for xb, yb in test_loader:\n",
        "        xb, yb = xb.to(device), yb.to(device)\n",
        "        all_p.append(biased_preds(xb, best_bias).cpu()) #  Run biased prediction, move to CPU\n",
        "        all_t.append(yb.cpu()) # Store true labels (also on CPU for sklearn)\n",
        "\n",
        "cm = confusion_matrix(torch.cat(all_t), torch.cat(all_p))\n",
        "\n",
        "fig, ax = plt.subplots(figsize=(6.5, 3.62))\n",
        "\n",
        "sns.heatmap(\n",
        "    cm,\n",
        "    annot=True,\n",
        "    cmap='Blues',\n",
        "    fmt='d',\n",
        "    vmin=0,                       # force the scale to start at 0\n",
        "    xticklabels=list(label_map.keys()),\n",
        "    yticklabels=list(label_map.keys()),\n",
        "    annot_kws={\"size\": 8},        # numbers in the cells\n",
        "    ax=ax,\n",
        "    cbar_kws={\n",
        "        \"label\": \"Count\",         # add the label here\n",
        "        \"shrink\": 0.6,            # overall bar length (0-1)\n",
        "        \"aspect\": 25,             # bar thickness (higher -> thinner)\n",
        "        \"pad\": 0.02,              # gap between map & bar\n",
        "    }\n",
        ")\n",
        "ax.set_xticklabels(\n",
        "    ax.get_xticklabels(),\n",
        "    rotation=30,                  # a bit steeper so they clear the bar\n",
        "    ha='right',\n",
        "    rotation_mode='anchor',\n",
        "    fontsize=8\n",
        ")\n",
        "ax.set_yticklabels(ax.get_yticklabels(), fontsize=8)\n",
        "cbar = ax.collections[0].colorbar\n",
        "cbar.ax.tick_params(labelsize=8)               # ticks\n",
        "cbar.set_label(\"Count\", fontsize=8, rotation=270, labelpad=12)\n",
        "fig.tight_layout(pad=0.6)\n",
        "plt.show()"
      ]
    }
  ],
  "metadata": {
    "accelerator": "GPU",
    "colab": {
      "gpuType": "L4",
      "machine_shape": "hm",
      "provenance": [],
      "include_colab_link": true
    },
    "kernelspec": {
      "display_name": "Python 3",
      "name": "python3"
    },
    "language_info": {
      "codemirror_mode": {
        "name": "ipython",
        "version": 3
      },
      "file_extension": ".py",
      "mimetype": "text/x-python",
      "name": "python",
      "nbconvert_exporter": "python",
      "pygments_lexer": "ipython3",
      "version": "3.12.2"
    }
  },
  "nbformat": 4,
  "nbformat_minor": 5
}